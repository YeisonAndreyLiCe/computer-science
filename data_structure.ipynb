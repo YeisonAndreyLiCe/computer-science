{
 "cells": [
  {
   "cell_type": "markdown",
   "metadata": {},
   "source": [
    "# Data Structures\n",
    "\n",
    "### Objectives\n",
    "1. Why is data structure important?\n",
    "2. What are the different types of data structures?\n",
    "3. How to use data structures in Python?\n",
    "4. Understand bits and bytes\n",
    "5. Understand why the memory management is important.\n"
   ]
  },
  {
   "cell_type": "markdown",
   "metadata": {},
   "source": [
    "Data structures **are containers that organize and group data types together in different ways**. Python has many built-in data structures, but the most common ones are lists, tuples, sets, and dictionaries. In this section, we will discuss the basics of these data structures and how to use them.\n"
   ]
  },
  {
   "cell_type": "markdown",
   "metadata": {},
   "source": [
    "## why is data structure important?\n",
    "1. It helps us to develop logical skills.\n",
    "2. It helps us to solve problems in an efficient way.\n",
    "3. It helps us to store data in an organized way.\n",
    "4. It helps us to access data in an efficient way.\n",
    "5. It helps us to develop problem-solving skills.\n",
    "\n",
    "Strong mathematical foundations are important for data structures. It is important to understand the concepts of sets, functions, and relations. It is important to understand the concepts of recursion and induction. It is important to understand the concepts of asymptotic analysis. It is important to understand the concepts of time and space complexity. In this notebook I use object-oriented programming to create data structures."
   ]
  },
  {
   "cell_type": "markdown",
   "metadata": {},
   "source": [
    "## Bits and Bytes\n",
    "Binary numbers are numbers expressed in the base-2 numeral system or binary numeral system, which uses only two symbols: typically \"0\" (zero) and \"1\" (one). The base-2 numeral system is a positional notation with a radix of 2. Each digit is referred to as a bit. More information: https://en.wikipedia.org/wiki/Binary_number\n",
    "\n",
    "Byte is a unit of digital information that most commonly consists of eight bits. More information: https://en.wikipedia.org/wiki/Byte\n",
    "\n",
    "bit: 0 or 1"
   ]
  },
  {
   "cell_type": "markdown",
   "metadata": {},
   "source": [
    "## Memory Management\n",
    "Memory management is the process of managing computer memory. The primary goals of memory management are to provide useful services to programs and to do so efficiently. More information: https://en.wikipedia.org/wiki/Memory_management\n",
    "\n",
    "- How are you using the memory ? (code efficiency)\n",
    "- How are you storing the data ? (data efficiency)\n",
    "\n",
    "## big O notation\n",
    "Big O notation is used in Computer Science to describe the performance or complexity of an algorithm. Big O specifically describes the worst-case scenario, and can be used to describe the execution time required or the space used (e.g. in memory or on disk) by an algorithm. More information: https://en.wikipedia.org/wiki/Big_O_notation-"
   ]
  },
  {
   "cell_type": "markdown",
   "metadata": {},
   "source": [
    "## Simple Linked Lists"
   ]
  },
  {
   "cell_type": "markdown",
   "metadata": {},
   "source": [
    "A linked list is a data structure that contains a group of nodes which together represent a sequence. Under the simplest form, each node is composed of a data and a reference (in other words, a link) to the next node in the sequence. More information: https://en.wikipedia.org/wiki/Linked_list\n",
    "\n",
    "advantages of Linked Lists:\n",
    "1. Quick insertion and deletion"
   ]
  },
  {
   "cell_type": "code",
   "execution_count": null,
   "metadata": {},
   "outputs": [],
   "source": [
    "# in linked list we use nodes to store data, each node has two parts, one is data and other is pointer to next node\n",
    "class SLNode:\n",
    "    def __init__(self, value):\n",
    "        self.value = value # value of to be stored in the node\n",
    "        self.next = None  # pointer to the next node"
   ]
  },
  {
   "cell_type": "code",
   "execution_count": null,
   "metadata": {},
   "outputs": [],
   "source": [
    "# A linked list is a class that has a head node, which is the first node in the list and since each node has\n",
    "# a pointer to the next node, we can traverse the list by following the pointers.\n",
    "class SLList:\n",
    "    def __init__(self):\n",
    "        self.head = None # head of the linked list\n",
    "        self.tail = None # tail of the linked list\n",
    "    \n",
    "    # this method receives a value, create a node and adds it to the head of the list\n",
    "    def add_to_head(self, value):\n",
    "        new_node = SLNode(value) # create a new node\n",
    "        if self.head is None and self.tail is None: # is the list is empty ?\n",
    "            self.head = new_node\n",
    "            self.tail = new_node\n",
    "        else:\n",
    "            new_node.next = self.head # if no empty, make the new node point to the current head.\n",
    "            self.head = new_node # now the head will be our new node\n",
    "    \n",
    "    # this method receives a value, create a node and adds it to the tail of the list\n",
    "    def add_to_tail(self, value):\n",
    "        new_node = SLNode(value)\n",
    "        if self.head is None and self.tail is None: # is the list is empty ?\n",
    "            self.head = new_node\n",
    "            self.tail = new_node\n",
    "        else:\n",
    "            self.tail.next = new_node # if no empty, make the next attribute of the current tail point to the new node.\n",
    "            self.tail = new_node # now the tail will be our new node\n",
    "    \n",
    "    # this method removes the head node and returns the value stored in it.\n",
    "    def remove_head(self):\n",
    "        if self.head is None and self.tail is None:\n",
    "            return None\n",
    "        if self.head == self.tail: # if there is only one node in the list\n",
    "            head = self.head # store the head in a variable to return it later\n",
    "            self.head = None # set the head to None\n",
    "            self.tail = None # set the tail to None\n",
    "            return head.value\n",
    "        else:\n",
    "            head = self.head # store the head in a variable to return it later\n",
    "            self.head = self.head.next # set the head to the next node\n",
    "            return head.value # return the value of the old head\n",
    "    \n",
    "    # this method removes the tail node and returns the value stored in it.\n",
    "    def remove_tail(self): \n",
    "        if self.head is None and self.tail is None:\n",
    "            return None\n",
    "        if self.head == self.tail:\n",
    "            tail = self.tail\n",
    "            self.head = None\n",
    "            self.tail = None\n",
    "            return tail.value\n",
    "        else:\n",
    "            # if there is more than one node in the list. the current variable will point to the head of the list,\n",
    "            #  and will be used to traverse the list until it reaches the node before the tail.\n",
    "            current = self.head \n",
    "            while current.next != self.tail: # traverse the list until the node before the tail\n",
    "                current = current.next\n",
    "            tail = self.tail # store the tail in a variable to return it later\n",
    "            self.tail = current # set the tail to the node before the old tail\n",
    "            self.tail.next = None # set the next attribute of the new tail to None\n",
    "            return tail.value # return the value of the old tail\n",
    "    \n",
    "    # this method receives a value and returns True if the value is in the list, False if not.\n",
    "    def contains(self, value):\n",
    "        if self.head is None and self.tail is None:\n",
    "            return False\n",
    "        current = self.head\n",
    "        while current is not None:\n",
    "            if current.value == value: # check if the current node has the value we are looking for\n",
    "                return True\n",
    "            current = current.next # if not, go to the next node\n",
    "        return False # return false in case the value is not in the list\n",
    "    "
   ]
  },
  {
   "cell_type": "markdown",
   "metadata": {},
   "source": [
    "## Webgraphy\n",
    "\n",
    "- Python Data Structures Tutorial: https://www.datacamp.com/community/tutorials/data-structures-python\n",
    "- Data Structures: https://www.geeksforgeeks.org/data-structures/\n",
    "- Data Structures and Algorithms in Python: https://runestone.academy/runestone/books/published/pythonds/index.html\n"
   ]
  }
 ],
 "metadata": {
  "kernelspec": {
   "display_name": "Python 3.10.6 64-bit",
   "language": "python",
   "name": "python3"
  },
  "language_info": {
   "name": "python",
   "version": "3.10.6"
  },
  "orig_nbformat": 4,
  "vscode": {
   "interpreter": {
    "hash": "916dbcbb3f70747c44a77c7bcd40155683ae19c65e1c03b4aa3499c5328201f1"
   }
  }
 },
 "nbformat": 4,
 "nbformat_minor": 2
}
